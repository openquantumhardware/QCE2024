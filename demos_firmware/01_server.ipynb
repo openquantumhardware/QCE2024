{
 "cells": [
  {
   "cell_type": "markdown",
   "id": "0836c01c",
   "metadata": {},
   "source": [
    "Run this cell after starting the nameserver in 00_nameserver, and keep it running."
   ]
  },
  {
   "cell_type": "code",
   "execution_count": null,
   "id": "b95cd9ff",
   "metadata": {},
   "outputs": [
    {
     "name": "stdout",
     "output_type": "stream",
     "text": [
      "looking for nameserver . . .\n",
      "found nameserver\n"
     ]
    },
    {
     "data": {
      "application/javascript": [
       "\n",
       "try {\n",
       "require(['notebook/js/codecell'], function(codecell) {\n",
       "  codecell.CodeCell.options_default.highlight_modes[\n",
       "      'magic_text/x-csrc'] = {'reg':[/^%%microblaze/]};\n",
       "  Jupyter.notebook.events.one('kernel_ready.Kernel', function(){\n",
       "      Jupyter.notebook.get_cells().map(function(cell){\n",
       "          if (cell.cell_type == 'code'){ cell.auto_highlight(); } }) ;\n",
       "  });\n",
       "});\n",
       "} catch (e) {};\n"
      ]
     },
     "metadata": {},
     "output_type": "display_data"
    },
    {
     "data": {
      "application/javascript": [
       "\n",
       "try {\n",
       "require(['notebook/js/codecell'], function(codecell) {\n",
       "  codecell.CodeCell.options_default.highlight_modes[\n",
       "      'magic_text/x-csrc'] = {'reg':[/^%%pybind11/]};\n",
       "  Jupyter.notebook.events.one('kernel_ready.Kernel', function(){\n",
       "      Jupyter.notebook.get_cells().map(function(cell){\n",
       "          if (cell.cell_type == 'code'){ cell.auto_highlight(); } }) ;\n",
       "  });\n",
       "});\n",
       "} catch (e) {};\n"
      ]
     },
     "metadata": {},
     "output_type": "display_data"
    },
    {
     "name": "stdout",
     "output_type": "stream",
     "text": [
      "initialized QICK\n",
      "registered QICK\n",
      "registered member <qick.streamer.DataStreamer object at 0xffff437dd780>\n",
      "registered member ---------------------------------------------\n",
      " TPROC V2 INFO \n",
      "---------------------------------------------\n",
      "Configuration:\n",
      "fifo_depth    : 512\n",
      "call_depth    : 255\n",
      "pmem_size     : 4096\n",
      "dmem_size     : 4096\n",
      "wmem_size     : 1024\n",
      "dreg_qty      : 16\n",
      "in_port_qty   : 8\n",
      "out_trig_qty  : 20\n",
      "out_dport_qty : 1\n",
      "out_dport_dw  : 8\n",
      "out_wport_qty : 16\n",
      "----------\n",
      "Control:\n",
      "has_io_ctrl   : YES\n",
      "has_ext_flag  : NO\n",
      "----------\n",
      "Peripherals:\n",
      "has_lfsr      : YES\n",
      "has_divider   : NO\n",
      "has_arith     : NO\n",
      "has_time_read : YES\n",
      "has_tnet      : NO\n",
      "has_qcom      : NO\n",
      "has_custom_periph: NO\n",
      "----------\n",
      "Debug:\n",
      "debug         : AXI_REG\n",
      "----------\n",
      "Clocks:\n",
      "CORE CLK : 200.0Mhz\n",
      "TIME CLK : 430.08Mhz\n",
      "----------\n",
      "\n",
      "starting daemon\n"
     ]
    }
   ],
   "source": [
    "from qick.pyro import start_server\n",
    "start_server(ns_host=\"localhost\", ns_port=8888, proxy_name=\"myqick\",\n",
    "             bitfile=\"../fw/2024-09-13_216_tprocv2r21_standard/qick_216.bit\")"
   ]
  }
 ],
 "metadata": {
  "kernelspec": {
   "display_name": "Python 3 (ipykernel)",
   "language": "python",
   "name": "python3"
  },
  "language_info": {
   "codemirror_mode": {
    "name": "ipython",
    "version": 3
   },
   "file_extension": ".py",
   "mimetype": "text/x-python",
   "name": "python",
   "nbconvert_exporter": "python",
   "pygments_lexer": "ipython3",
   "version": "3.10.4"
  }
 },
 "nbformat": 4,
 "nbformat_minor": 5
}

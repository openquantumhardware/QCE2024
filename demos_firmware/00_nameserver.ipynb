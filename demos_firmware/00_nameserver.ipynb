{
 "cells": [
  {
   "cell_type": "markdown",
   "id": "cc00aa7a",
   "metadata": {},
   "source": [
    "Typical Pyro setup. Run this cell first (before the other notebooks) and keep it running."
   ]
  },
  {
   "cell_type": "code",
   "execution_count": null,
   "id": "d76b2ed4",
   "metadata": {},
   "outputs": [
    {
     "name": "stdout",
     "output_type": "stream",
     "text": [
      "Broadcast server running on 0.0.0.0:9091\n",
      "NS running on 0.0.0.0:8888 (0.0.0.0)\n",
      "Warning: HMAC key not set. Anyone can connect to this server!\n",
      "URI = PYRO:Pyro.NameServer@0.0.0.0:8888\n"
     ]
    }
   ],
   "source": [
    "from qick.pyro import start_nameserver\n",
    "start_nameserver(ns_port=8888)"
   ]
  }
 ],
 "metadata": {
  "kernelspec": {
   "display_name": "Python 3 (ipykernel)",
   "language": "python",
   "name": "python3"
  },
  "language_info": {
   "codemirror_mode": {
    "name": "ipython",
    "version": 3
   },
   "file_extension": ".py",
   "mimetype": "text/x-python",
   "name": "python",
   "nbconvert_exporter": "python",
   "pygments_lexer": "ipython3",
   "version": "3.10.4"
  }
 },
 "nbformat": 4,
 "nbformat_minor": 5
}
